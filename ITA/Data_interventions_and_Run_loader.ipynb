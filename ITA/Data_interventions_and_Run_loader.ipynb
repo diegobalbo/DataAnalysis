{
 "cells": [
  {
   "cell_type": "code",
   "execution_count": 1,
   "id": "d986d540-50de-4695-bfde-bb104e59dfdc",
   "metadata": {},
   "outputs": [],
   "source": [
    "### Utenti Validi\n",
    "# '2c938084683d9f87016d1636f55a00de': (u'Grazia Benedetti',True,\"24.10.19\",\"1.4.20\")\n",
    "# '2c938084683d9f87016ff0d54c3d0138': (u'Maria Luisa  Bortoluzzi',True,\"29.1.20\",\"1.5.20\")\n",
    "# '2c938084683d9f87016fd2ac0d240134': (u'Silvia Francescangeli',True,\"23.1.20\",\"1.5.20\")\n",
    "# '2c938084683d9f87016cd1cbb80100a7': (u'Enrico Vottero',True,\"30.09.19\",\"20.12.19\")\n",
    "# '2c938084683d9f87016d163666b900db': (u'Giorgio Bertolani',True,\"9.10.19\",\"20.12.19\")}"
   ]
  },
  {
   "cell_type": "markdown",
   "id": "3bcb8e77-078b-43ee-9929-1472ed2074bc",
   "metadata": {},
   "source": [
    "### Setup delle librerie e connessione al database"
   ]
  },
  {
   "cell_type": "code",
   "execution_count": 2,
   "id": "d786bad9-555e-4838-9313-68d9e9786c54",
   "metadata": {},
   "outputs": [],
   "source": [
    "import pymongo \n",
    "from pymongo import MongoClient\n",
    "import matplotlib\n",
    "import matplotlib.pyplot as plt\n",
    "import numpy as np\n",
    "from datetime import datetime\n",
    "import math\n",
    "from matplotlib.offsetbox import OffsetImage, AnnotationBbox\n",
    "\n",
    "import pickle"
   ]
  },
  {
   "cell_type": "code",
   "execution_count": 3,
   "id": "38db099e-b94c-4fea-a63f-f35e7937913d",
   "metadata": {},
   "outputs": [
    {
     "name": "stdout",
     "output_type": "stream",
     "text": [
      "PROCESSING USER:\n",
      "2c938084683d9f87016cd1cbb80100a7\n"
     ]
    }
   ],
   "source": [
    "### connect to the db \n",
    "myclient = pymongo.MongoClient(\"mongodb://localhost:27018/\")\n",
    "mydb = myclient[\"mls\"]\n",
    "mycol = mydb[\"mqttlogs\"]\n",
    "\n",
    "### select a user and find all the respective entries\n",
    "utente='2c938084683d9f87016cd1cbb80100a7'\n",
    "print(\"PROCESSING USER:\\n\" + utente)\n",
    "\n",
    "query = {'userid':utente}\n",
    "db_entries = mycol.find(query)"
   ]
  },
  {
   "cell_type": "markdown",
   "id": "605a503e-8d75-43c4-810b-9fc89b12635e",
   "metadata": {},
   "source": [
    "### Calcolo di interventions e acks"
   ]
  },
  {
   "cell_type": "code",
   "execution_count": 4,
   "id": "2481fdaf-ee08-4bd1-ba4c-c19072a47ce0",
   "metadata": {},
   "outputs": [
    {
     "name": "stdout",
     "output_type": "stream",
     "text": [
      "2023-12-30 15:03:59.035307\n"
     ]
    }
   ],
   "source": [
    "ordered_interventions_id = [] # an array with the intervention_id\n",
    "interventions = dict() # a dictionary with all the interventions; the intervention_id is the key\n",
    "acks = dict() # a dictionary with all the acks; the intervention_id is the key\n",
    "escape_interventions = [\"641056j1-0g78-vjqf-cpju-7dnx895011y9\"]\n",
    "\n",
    "print(datetime.now())"
   ]
  },
  {
   "cell_type": "code",
   "execution_count": 5,
   "id": "697f8354-e0c6-4888-80f7-609211069a95",
   "metadata": {},
   "outputs": [
    {
     "name": "stdout",
     "output_type": "stream",
     "text": [
      "start querying DB for interventions and acks\n",
      "'intervention_id' {'_id': ObjectId('5d9b424eebaf7e0a71da563e'), 'topic': 'movecare/ack/2c938084683d9f87016cd1cbb80100a7/INFO', 'category': 'ack', 'userid': '2c938084683d9f87016cd1cbb80100a7', 'raw_payload': {'data': {'code': 'OS', 'location': '', 'objectid': '000000000000000000000A81', 'response': 'Found', 'roomid': 'empty'}, 'id': '2e5a5e13-68aa-4b33-a2dc-31f37044792e', 'time': {'t': '1570456140.641847496', 'temporality': 'timestamp'}, 'trace': {'OSresult': 'yes', 'objectid': '000000000000000000000A81', 'objectlocation': '[-1.72417130703,-0.921335104026,0.0222753854406]', 'objectspacelocation': ''}, 'userid': '2c938084683d9f87016cd1cbb80100a7'}, 'created_at': datetime.datetime(2019, 10, 7, 13, 49, 2, 204000), 'updatedAt': datetime.datetime(2019, 10, 7, 13, 49, 2, 204000), '__v': 0}\n",
      "'intervention_id' {'_id': ObjectId('5d9b45e0ebaf7e0a71da59d3'), 'topic': 'movecare/ack/2c938084683d9f87016cd1cbb80100a7/INFO', 'category': 'ack', 'userid': '2c938084683d9f87016cd1cbb80100a7', 'raw_payload': {'data': {'code': 'OS', 'location': 'empty', 'objectid': 'empty', 'response': 'Not found', 'roomid': 'empty'}, 'id': 'cd2b713a-7157-467a-9568-86fa945dc2f6', 'time': {'t': '1570457055.419716261', 'temporality': 'timestamp'}, 'trace': {'TaskManager': 'OS cancelled by request STOP_OS'}, 'userid': '2c938084683d9f87016cd1cbb80100a7'}, 'created_at': datetime.datetime(2019, 10, 7, 14, 4, 16, 544000), 'updatedAt': datetime.datetime(2019, 10, 7, 14, 4, 16, 544000), '__v': 0}\n",
      "'intervention_id' {'_id': ObjectId('5d9b4839ebaf7e0a71da5bc2'), 'topic': 'movecare/ack/2c938084683d9f87016cd1cbb80100a7/INFO', 'category': 'ack', 'userid': '2c938084683d9f87016cd1cbb80100a7', 'raw_payload': {'data': {'code': 'OS', 'location': 'empty', 'objectid': 'empty', 'response': 'Not found', 'roomid': 'empty'}, 'id': 'be57b025-114e-4c65-8d0a-113960d1b417', 'time': {'t': '1570457656.516446776', 'temporality': 'timestamp'}, 'trace': {'TaskManager': 'OS cancelled by request STOP_OS'}, 'userid': '2c938084683d9f87016cd1cbb80100a7'}, 'created_at': datetime.datetime(2019, 10, 7, 14, 14, 17, 617000), 'updatedAt': datetime.datetime(2019, 10, 7, 14, 14, 17, 617000), '__v': 0}\n",
      "end processing interventions and acks\n",
      "13961 13960 13926\n"
     ]
    }
   ],
   "source": [
    "print(\"start querying DB for interventions and acks\")\n",
    "\n",
    "for d in db_entries :\n",
    "    try :\n",
    "        # collect all the user's interventions\n",
    "        if utente in d['topic'] and \"interventions\" in d['topic'] and d['raw_payload']['id'] not in escape_interventions:\n",
    "            ordered_interventions_id.append(d['raw_payload']['id']) \n",
    "            interventions[d['raw_payload']['id']] = d \n",
    "\n",
    "        # collect all the user's acks\n",
    "        if utente in d['topic'] and \"ack\" in d['topic'] and d['raw_payload']['intervention_id'] in interventions.keys() :\n",
    "            acks[d['raw_payload']['intervention_id']] = d\n",
    "    # for bd_entries that are neither interventions nor acks\n",
    "    except Exception as e:\n",
    "        print(e,d)\n",
    "\n",
    "print(\"end processing interventions and acks\")\n",
    "print(len(ordered_interventions_id),len(interventions),len(acks))  "
   ]
  },
  {
   "cell_type": "markdown",
   "id": "895b1e52-9922-4492-ae00-4431494d401c",
   "metadata": {},
   "source": [
    "### Calcolo delle interventions dangling"
   ]
  },
  {
   "cell_type": "code",
   "execution_count": 6,
   "id": "baf4aa0a-8fbd-4c64-bbdd-dcfbacc7c757",
   "metadata": {},
   "outputs": [],
   "source": [
    "timedeltas = dict()\n",
    "responses = dict()\n",
    "traces = dict()\n",
    "times = dict() # contains timestamps about the beginning of an intervention and its ack, the key is the intervention_id\n",
    "dangling_interventions = []"
   ]
  },
  {
   "cell_type": "code",
   "execution_count": 7,
   "id": "72bba325-d1ef-4b3f-9f93-baea451bd9de",
   "metadata": {},
   "outputs": [
    {
     "name": "stdout",
     "output_type": "stream",
     "text": [
      "end arranging intervention\n",
      "34 dangling interventions\n"
     ]
    }
   ],
   "source": [
    "for i in interventions.keys() : \n",
    "\titem = interventions[i]\n",
    "\tif i in acks and i in interventions :\n",
    "\t\t# timedeltas[i] = float(acks[i]['raw_payload']['time']['t']) - float(interventions[i]['raw_payload']['time']['t'])\n",
    "\t\t# responses[i] = acks[i]['raw_payload']['data']['response']\n",
    "\t\t# if \"trace\" in acks[i]['raw_payload'] :\n",
    "\t\t\t# traces[i] = acks[i]['raw_payload']['trace']\n",
    "\t\ttimes[i] = []\n",
    "\t\ttimes[i].append(float(interventions[i]['raw_payload']['time']['t']))\n",
    "\t\ttimes[i].append(float(acks[i]['raw_payload']['time']['t']))\t\n",
    "\telse :\n",
    "\t\tdangling_interventions.append(i) \n",
    "print(\"end arranging intervention\")\n",
    "print(str(len(dangling_interventions))+ \" dangling interventions\")"
   ]
  },
  {
   "cell_type": "markdown",
   "id": "6514cdcd-ef46-49a5-902f-aa6d2a8123ef",
   "metadata": {},
   "source": [
    "### Salvataggio dei dati raccolti sulle interventions"
   ]
  },
  {
   "cell_type": "code",
   "execution_count": 8,
   "id": "a5b1390c-c45b-4884-a8be-f03d107cade8",
   "metadata": {},
   "outputs": [],
   "source": [
    "data_file = open(\"./data_interventions_\"+str(utente)+\".pkl\", \"wb\")\n",
    "pickle.dump([ordered_interventions_id,interventions,acks,dangling_interventions,times],data_file)\n",
    "data_file.close()"
   ]
  },
  {
   "cell_type": "markdown",
   "id": "c09dce69-5deb-4ced-8a68-22a5b7710567",
   "metadata": {},
   "source": [
    "### Calcolo delle run del robot"
   ]
  },
  {
   "cell_type": "code",
   "execution_count": 9,
   "id": "7e0e7cb5-2f11-4ae1-9af8-f03973e88945",
   "metadata": {},
   "outputs": [],
   "source": [
    "topic = 'movecare/environment/'+utente+'/ROBOT'\n",
    "query = {'userid':utente, 'topic': topic, 'category':'environment'}\n",
    "entries = mycol.find(query)\n",
    "\n",
    "t=[]\n",
    "poses=[]\n",
    "poses_r = []\n",
    "run = [] "
   ]
  },
  {
   "cell_type": "code",
   "execution_count": 10,
   "id": "36bc88ba-42f0-459f-9d11-81ade142569a",
   "metadata": {},
   "outputs": [
    {
     "name": "stdout",
     "output_type": "stream",
     "text": [
      "starting parsing entries\n",
      "end of parsing entries\n",
      "defining runs\n"
     ]
    }
   ],
   "source": [
    "print(\"starting parsing entries\")\n",
    "for p in entries : # poses contain all the db entries having 'environment/ROBOT' as their topic\n",
    "    if utente in p['topic'] and 'ROBOT' in p['topic']:\n",
    "        t.append(p['raw_payload']['time']['t'])\n",
    "        poses.append(p)\n",
    "print(\"end of parsing entries\")\n",
    "\n",
    "print(\"defining runs\")\n",
    "for j in ordered_interventions_id:\n",
    "    if j not in dangling_interventions : # selected all the non pending intervention_id\n",
    "        poses_r = []\n",
    "        for i in range(len(t)-1) :\n",
    "            # if the time t of the pose at index i (from 0 to let(t)-1 is included between the start of an intervention and its ack, then update\n",
    "            if float(t[i]) <= float(times[j][1]) and  float(t[i]) >= float(times[j][0]) :\n",
    "                poses[i][\"intervention_id\"] = j\n",
    "                poses_r.append(poses[i])\n",
    "        # using only runs longer than 10 seconds and filter those longer than 1h cause are errors (We have runs lasting months)\n",
    "        if len(poses_r) > 10 and len(poses_r) < 3600:\n",
    "            run.append(poses_r)"
   ]
  },
  {
   "cell_type": "code",
   "execution_count": 11,
   "id": "6cfd6a1c-f2ff-45f5-9b95-e83dea06fd4d",
   "metadata": {},
   "outputs": [
    {
     "data": {
      "text/plain": [
       "608"
      ]
     },
     "execution_count": 11,
     "metadata": {},
     "output_type": "execute_result"
    }
   ],
   "source": [
    "len(run)"
   ]
  },
  {
   "cell_type": "markdown",
   "id": "a8c0890a-1ec4-4107-9ddb-1522052c327a",
   "metadata": {},
   "source": [
    "### Salvataggio delle run"
   ]
  },
  {
   "cell_type": "code",
   "execution_count": 12,
   "id": "3df1a3db-f49a-42d2-9b15-98053e2cec62",
   "metadata": {},
   "outputs": [],
   "source": [
    "data_file = open(\"./run_fullcomunication_\"+str(utente)+\".pkl\", \"wb\")\n",
    "pickle.dump(run,data_file)\n",
    "data_file.close()"
   ]
  }
 ],
 "metadata": {
  "kernelspec": {
   "display_name": "Python 3 (ipykernel)",
   "language": "python",
   "name": "python3"
  },
  "language_info": {
   "codemirror_mode": {
    "name": "ipython",
    "version": 3
   },
   "file_extension": ".py",
   "mimetype": "text/x-python",
   "name": "python",
   "nbconvert_exporter": "python",
   "pygments_lexer": "ipython3",
   "version": "3.12.1"
  }
 },
 "nbformat": 4,
 "nbformat_minor": 5
}
