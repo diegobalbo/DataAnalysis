{
 "cells": [
  {
   "cell_type": "code",
   "execution_count": 1,
   "id": "f08b2ef8-9557-4098-a11d-b42573f27230",
   "metadata": {},
   "outputs": [],
   "source": [
    "### Utenti Validi\n",
    "# '2c938084683d9f87016d1636f55a00de': (u'Grazia Benedetti',True,\"24.10.19\",\"1.4.20\")\n",
    "# '2c938084683d9f87016ff0d54c3d0138': (u'Maria Luisa  Bortoluzzi',True,\"29.1.20\",\"1.5.20\")\n",
    "# '2c938084683d9f87016fd2ac0d240134': (u'Silvia Francescangeli',True,\"23.1.20\",\"1.5.20\")\n",
    "# '2c938084683d9f87016cd1cbb80100a7': (u'Enrico Vottero',True,\"30.09.19\",\"20.12.19\")\n",
    "# '2c938084683d9f87016d163666b900db': (u'Giorgio Bertolani',True,\"9.10.19\",\"20.12.19\")}"
   ]
  },
  {
   "cell_type": "code",
   "execution_count": 2,
   "id": "1995022c-7013-4292-af3c-4d41a05b1278",
   "metadata": {},
   "outputs": [],
   "source": [
    "import pickle\n",
    "utente='2c938084683d9f87016cd1cbb80100a7'"
   ]
  },
  {
   "cell_type": "markdown",
   "id": "d2468359-09e7-4b2c-a695-bdd890efea2e",
   "metadata": {},
   "source": [
    "### Recupero delle interventions con rooms-list"
   ]
  },
  {
   "cell_type": "code",
   "execution_count": 3,
   "id": "87510348-67b9-4f77-981d-155dc7f510db",
   "metadata": {},
   "outputs": [
    {
     "name": "stdout",
     "output_type": "stream",
     "text": [
      "start loading for interventions woth rooms indications\n"
     ]
    }
   ],
   "source": [
    "print(\"start loading for interventions woth rooms indications\")\n",
    "data_file = open(\"./roomlist_interventions_\"+str(utente)+\".pkl\", \"rb\")\n",
    "intv_rooms = pickle.load(data_file)\n",
    "data_file.close()"
   ]
  },
  {
   "cell_type": "code",
   "execution_count": 4,
   "id": "7539bc25-067a-45b7-91eb-c806f0d462ec",
   "metadata": {},
   "outputs": [
    {
     "name": "stdout",
     "output_type": "stream",
     "text": [
      "2e5a5e13-68aa-4b33-a2dc-31f37044792e 2e5a5e13-68aa-4b33-a2dc-31f37044792e\n",
      "cd2b713a-7157-467a-9568-86fa945dc2f6 cd2b713a-7157-467a-9568-86fa945dc2f6\n",
      "be57b025-114e-4c65-8d0a-113960d1b417 be57b025-114e-4c65-8d0a-113960d1b417\n"
     ]
    }
   ],
   "source": [
    "for i in intv_rooms :\n",
    "    print(i, intv_rooms[i][\"raw_payload\"][\"id\"])"
   ]
  },
  {
   "cell_type": "markdown",
   "id": "9b9776f3-1c65-4b34-81e4-898dfbfb5450",
   "metadata": {},
   "source": [
    "### Recupero delle run"
   ]
  },
  {
   "cell_type": "code",
   "execution_count": 5,
   "id": "149625ab-f6ab-4545-bf96-9223b951815f",
   "metadata": {},
   "outputs": [
    {
     "name": "stdout",
     "output_type": "stream",
     "text": [
      "start loading for run full comunications\n"
     ]
    }
   ],
   "source": [
    "### RUNS è una lista contenente le diverse run\n",
    "### ogni singola run è a sua volta una lista contenente tutti i pacchetti trasmessi in quella run\n",
    "### ogni pacchetto è un dict\n",
    "\n",
    "print(\"start loading for run full comunications\")\n",
    "data_file = open(\"./run_fullcomunication_\"+str(utente)+\".pkl\", \"rb\")\n",
    "runs = pickle.load(data_file)\n",
    "data_file.close()"
   ]
  },
  {
   "cell_type": "code",
   "execution_count": 6,
   "id": "87769009-8f21-40fa-9d6a-8a3aac01ee0d",
   "metadata": {},
   "outputs": [
    {
     "name": "stdout",
     "output_type": "stream",
     "text": [
      "608\n"
     ]
    }
   ],
   "source": [
    "print(len(runs))"
   ]
  },
  {
   "cell_type": "markdown",
   "id": "33c9db68-e383-48c9-9f8b-4ac237af601c",
   "metadata": {},
   "source": [
    "### Check della corrispondenza delle interventions all'interno di ogni singola run"
   ]
  },
  {
   "cell_type": "code",
   "execution_count": 7,
   "id": "a30ca906-20a3-45d5-891f-cdddfc9a7297",
   "metadata": {},
   "outputs": [
    {
     "name": "stdout",
     "output_type": "stream",
     "text": [
      "cerco una corrispondenza con l'intervention-room-list numero 2e5a5e13-68aa-4b33-a2dc-31f37044792e (0)\n",
      "cerco una corrispondenza con l'intervention-room-list numero cd2b713a-7157-467a-9568-86fa945dc2f6 (1)\n",
      "cerco una corrispondenza con l'intervention-room-list numero be57b025-114e-4c65-8d0a-113960d1b417 (2)\n"
     ]
    }
   ],
   "source": [
    "i_num = 0\n",
    "j_num = 0\n",
    "\n",
    "for i in intv_rooms :\n",
    "    print(\"cerco una corrispondenza con l'intervention-room-list numero \"+i+\" (\"+str(i_num)+\")\")\n",
    "    j_num = 0\n",
    "    for j in runs : \n",
    "        for y in j :\n",
    "            if y[\"intervention_id\"] == i : \n",
    "                print(\"match trovato con intervention-id \"+i+\"\\nrun numero \"+str(j_num))\n",
    "        j_num += 1\n",
    "    i_num += 1"
   ]
  }
 ],
 "metadata": {
  "kernelspec": {
   "display_name": "Python 3 (ipykernel)",
   "language": "python",
   "name": "python3"
  },
  "language_info": {
   "codemirror_mode": {
    "name": "ipython",
    "version": 3
   },
   "file_extension": ".py",
   "mimetype": "text/x-python",
   "name": "python",
   "nbconvert_exporter": "python",
   "pygments_lexer": "ipython3",
   "version": "3.12.1"
  }
 },
 "nbformat": 4,
 "nbformat_minor": 5
}
